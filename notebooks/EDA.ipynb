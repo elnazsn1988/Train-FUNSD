{
 "cells": [
  {
   "cell_type": "code",
   "execution_count": 1,
   "metadata": {},
   "outputs": [],
   "source": [
    "from matplotlib import pyplot as plt\n",
    "%matplotlib notebook\n",
    "import glob\n",
    "import os\n",
    "import numpy as np\n",
    "import ipywidgets as widgets\n",
    "from ipywidgets import interact, interact_manual\n",
    "import os\n",
    "from IPython.display import Image\n",
    "import json\n",
    "import cv2"
   ]
  },
  {
   "cell_type": "code",
   "execution_count": 2,
   "metadata": {},
   "outputs": [
    {
     "name": "stdout",
     "output_type": "stream",
     "text": [
      "Total Train images=149. Total Train annotations=149.\n",
      "Total Test images=50. Total Test annotations=50.\n"
     ]
    }
   ],
   "source": [
    "DATASTE_FOLDER=\"/Users/user421/datasets/FUNSD/dataset/\"\n",
    "\n",
    "train = os.path.join(DATASTE_FOLDER, \"training_data\")\n",
    "test = os.path.join(DATASTE_FOLDER, \"testing_data\")\n",
    "\n",
    "train_images = sorted(glob.glob(\"{}/images/*\".format(train)))\n",
    "test_images = sorted(glob.glob(\"{}/images/*\".format(test)))\n",
    "\n",
    "train_annotations = sorted(glob.glob(\"{}/annotations/*\".format(train)))\n",
    "test_annotations = sorted(glob.glob(\"{}/annotations/*\".format(test)))\n",
    "\n",
    "print(\"Total Train images={}. Total Train annotations={}.\".format(len(train_images), len(train_annotations)))\n",
    "print(\"Total Test images={}. Total Test annotations={}.\".format(len(test_images), len(test_annotations)))"
   ]
  },
  {
   "cell_type": "code",
   "execution_count": 3,
   "metadata": {},
   "outputs": [],
   "source": [
    "class Constants:\n",
    "    RED = [0, 0, 255]\n",
    "    GREEN = [0,255, 0]\n",
    "    BLUE = [255,0, 0]\n",
    "    CYAN = [255, 255, 0]\n",
    "    \n",
    "    \n",
    "class Box():\n",
    "    def __init__(self, xmin, ymin, xmax, ymax):\n",
    "        self.xmin, self.ymin, self.xmax, self.ymax = xmin, ymin, xmax, ymax\n",
    "     \n",
    "    def __repr__(self):\n",
    "        return f\"Box(xmin={self.xmin},ymin={self.ymin}, xmax={self.xmax}, ymax={self.ymax})\"\n",
    "\n",
    "class Word:\n",
    "    def __init__(self, box, text):\n",
    "        self.box = Box(*box)\n",
    "        self.text = text\n",
    "        \n",
    "    def __getitem__(self, item):\n",
    "        if not hasattr(self, item):\n",
    "            raise KeyError(f\"{item} is not present in {self.__class__}\")\n",
    "        return getattr(self, item)\n",
    "    \n",
    "    def __repr__(self):\n",
    "        return f\"Word(box={self.box}, text={self.text})\"\n",
    "        \n",
    "    \n",
    "class Entity:\n",
    "    def __init__(self, id_, box, text, label, words, linking):\n",
    "        self.id_ = id_\n",
    "        self.box = Box(*box)\n",
    "        self.text = text\n",
    "        self.label = label\n",
    "        self.words = [ Word(**word) for word in words ] \n",
    "        self.linking = linking\n",
    "    \n",
    "    def __getitem__(self, item):\n",
    "        if not hasattr(self, item):\n",
    "            raise KeyError(f\"{item} is not present in {self.__class__}\")\n",
    "        return getattr(self, item)\n",
    "    \n",
    "    def __repr__(self):\n",
    "        return f\"Entity(id_={self.id_}, box={self.box}, text={self.text}, label={self.label}, words={self.words}, linking={self.linking})\"\n",
    "    \n",
    "class Form():\n",
    "    def __init__(self, entities):\n",
    "        self.entities = [Entity(id_=idx, **entity) for idx, entity in enumerate(entities)]\n",
    "        \n",
    "    def __repr__(self):\n",
    "        return f\"Form(entities={self.entities})\""
   ]
  },
  {
   "cell_type": "code",
   "execution_count": 4,
   "metadata": {},
   "outputs": [],
   "source": [
    "def label_to_color(label):\n",
    "    return {\n",
    "        \"question\": Constants.RED,\n",
    "        \"answer\": Constants.GREEN,\n",
    "        \"header\": Constants.BLUE,\n",
    "        \"other\": Constants.CYAN,\n",
    "    }[label]\n",
    "    \n",
    "    \n",
    "def color_image(image, annotation):\n",
    "    for entity in annotation.entities:\n",
    "        box = entity.box\n",
    "        image_crop = image[box.ymin:box.ymax, \n",
    "                           box.xmin:box.xmax, :]\n",
    "        image_crop[np.where((image_crop < [127,127,127]).all(axis = 2))] = label_to_color(entity.label)\n",
    "        image[box.ymin:box.ymax, \n",
    "                          box.xmin:box.xmax, :] = image_crop\n",
    "        \n",
    "    return image\n"
   ]
  },
  {
   "cell_type": "code",
   "execution_count": 5,
   "metadata": {},
   "outputs": [],
   "source": [
    "train_image_file_names = [image_file.rsplit(os.sep,1)[-1] for image_file in train_images ]\n",
    "train_images_dir = train_images[0].rsplit(os.sep,1)[0]\n",
    "\n",
    "annotations = []\n",
    "for train_annotation in train_annotations:\n",
    "    with open(train_annotation) as fp:\n",
    "        annotations.append(Form(json.loads(fp.read())[\"form\"]))\n",
    "\n",
    "\n",
    "colored_images = {image_file:color_image(cv2.imread(os.path.join(train_images_dir, image_file)), annotations[idx]) \n",
    "                for idx, image_file in enumerate(train_image_file_names) }"
   ]
  },
  {
   "cell_type": "code",
   "execution_count": 6,
   "metadata": {},
   "outputs": [
    {
     "data": {
      "application/vnd.jupyter.widget-view+json": {
       "model_id": "db55efc1eb744159ac0734d43412894c",
       "version_major": 2,
       "version_minor": 0
      },
      "text/plain": [
       "interactive(children=(Dropdown(description='image_file', options=('0000971160.png', '0000989556.png', '0000990…"
      ]
     },
     "metadata": {},
     "output_type": "display_data"
    }
   ],
   "source": [
    "\n",
    "@interact\n",
    "def show_images(image_file=train_image_file_names):\n",
    "    \n",
    "    image = colored_images[image_file]\n",
    "    cv2.imwrite(\"temp.jpg\", image)\n",
    "    \n",
    "    display(Image(data=\"temp.jpg\"))\n",
    "    \n",
    "    "
   ]
  },
  {
   "cell_type": "code",
   "execution_count": null,
   "metadata": {},
   "outputs": [],
   "source": []
  },
  {
   "cell_type": "code",
   "execution_count": null,
   "metadata": {},
   "outputs": [],
   "source": []
  }
 ],
 "metadata": {
  "kernelspec": {
   "display_name": "Python 3",
   "language": "python",
   "name": "python3"
  },
  "language_info": {
   "codemirror_mode": {
    "name": "ipython",
    "version": 3
   },
   "file_extension": ".py",
   "mimetype": "text/x-python",
   "name": "python",
   "nbconvert_exporter": "python",
   "pygments_lexer": "ipython3",
   "version": "3.6.7"
  }
 },
 "nbformat": 4,
 "nbformat_minor": 2
}
